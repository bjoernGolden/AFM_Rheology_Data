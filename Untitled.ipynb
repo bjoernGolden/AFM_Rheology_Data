{
 "cells": [
  {
   "cell_type": "markdown",
   "metadata": {},
   "source": [
    "**Import Packages**"
   ]
  },
  {
   "cell_type": "code",
   "execution_count": 31,
   "metadata": {
    "collapsed": false
   },
   "outputs": [],
   "source": [
    "import pandas as pd\n",
    "import csv\n",
    "import os\n",
    "import re\n",
    "from optparse import OptionParser\n"
   ]
  },
  {
   "cell_type": "markdown",
   "metadata": {},
   "source": [
    "**Parser**"
   ]
  },
  {
   "cell_type": "code",
   "execution_count": null,
   "metadata": {
    "collapsed": false,
    "scrolled": true
   },
   "outputs": [],
   "source": [
    "parser = OptionParser()\n",
    "parser.add_option(\"-f\", \"--file\", dest=\"filename\", help=\"write report to FILE\", metavar=\"FILE\")\n",
    "parser.add_option(\"-p\", \"--path\", dest=\"path\", help=\"specify path\", metavar=\"PATH\")\n",
    "#parser.add_option(\"-q\", \"--quiet\",  action=\"store_false\", dest=\"verbose\", default=True, help=\"don't print status messages to stdout\")\n",
    "\n",
    "parser.set_defaults(filename=\"WT_1.txt\", path=os.getcwd())\n",
    "(options, args) = parser.parse_args()\n",
    "\n",
    "path = options.path\n",
    "filename =options.filename\n",
    "\n",
    "#print(path)\n",
    "#print(filename)\n"
   ]
  },
  {
   "cell_type": "markdown",
   "metadata": {},
   "source": [
    "Optional input"
   ]
  },
  {
   "cell_type": "code",
   "execution_count": null,
   "metadata": {
    "collapsed": true
   },
   "outputs": [],
   "source": [
    "path="
   ]
  },
  {
   "cell_type": "code",
   "execution_count": null,
   "metadata": {
    "collapsed": false
   },
   "outputs": [],
   "source": [
    "file_list=os.listdir(path)\n",
    "\n",
    "#print(file_list)\n",
    "for force_file in file_list:\n",
    "  \n",
    " # print(force_file)\n",
    "    if os.path.isfile(path+force_file):\n",
    "  \n",
    "    (force_filename, force_file_extension)= os.path.splitext(force_file)\n",
    "    print(force_file_extension)\n",
    "    \n",
    "    if force_file_extension == '.txt':\n",
    "      \n",
    "      Path=path+ force_filename\n",
    "      \n",
    "      print(path+ force_filename)\n",
    "\n",
    "    if not os.path.isdir(Path):\n",
    "        os.makedirs(Path)\n",
    "\n",
    "    #with open('map-data.txt', 'r') as data_file:\n",
    "    with open(path+force_file, 'r') as data_file:\n",
    "        segmentI='0'\n",
    "        segmentSize=0\n",
    "        block_count = 0\n",
    "        segment=' '\n",
    "        frequence_array = []\n",
    "        frequence_dict = {}\n",
    "        segment_dict={}\n",
    "        sample_freq={}\n",
    "        dur=0.1\n",
    "        N=0\n",
    "        \n",
    "  \n",
    "    flag=True\n",
    "\n",
    "    for line in data_file:\n",
    "\n",
    "        temp = line.split()\n",
    "\n",
    "        if (len(temp)>1):\n",
    "\n",
    "            reg=re.search('force-settings.segment.(\\d*).frequency:',temp[1])\n",
    "            reg_segment=re.search('force-settings.segment.(\\d*).style:',temp[1])\n",
    "            reg_duration=re.search('force-settings.segment.(\\d*).duration:',temp[1])\n",
    "            reg_samples=re.search('force-settings.segment.(\\d*).num-points:',temp[1])\n",
    "\n",
    "        if (temp[0]== '#') & (temp[1]=='force-settings.segments.size:') & (flag):\n",
    "            segmentSize=temp[2]\n",
    "        elif (temp[0]== '#') & (reg_duration is not None) & (flag): ##\n",
    "            dur=float(temp[2])  \n",
    "        elif (temp[0]== '#') & (reg_samples is not None) & (flag):\n",
    "\n",
    "        if dur==0:##\n",
    "            sample_freq[reg_samples.group(1)]=str(0)\n",
    "        else:\n",
    "            sample_freq[reg_samples.group(1)]=str(round(float(temp[2])/dur,1))  \n",
    "\n",
    "        elif (temp[0]== '#') & (reg_segment is not None) & (flag): ##\n",
    "            segment_dict[reg_segment.group(1)]=temp[2]\n",
    "\n",
    "        elif (temp[0]== '#') & (reg is not None) & (flag):\n",
    "            #frequence_array.append(reg.group(1) [temp[2]])  \n",
    "             frequence_dict[reg.group(1)]=temp[2] \n",
    "        elif ((temp[0]== '#') & (temp[1]=='segmentIndex:')):\n",
    "            flag=False\n",
    "            segmentI=temp[2] \n",
    "        elif ((temp[0]== '#') & (temp[1]=='segment:')):\n",
    "            segment=temp[2]\n",
    "            print(temp[2])\n",
    "        if segmentI in frequence_dict.keys():\n",
    "            print(frequence_dict[segmentI])\n",
    "        elif ((temp[0] == '#') &  (temp[1] == 'columns:')):\n",
    "            print line\n",
    "            \n",
    "                             \n",
    "                ## Header table _DataFrame\n",
    "        if         \n",
    "                \n",
    "                \n",
    "        if segmentI in frequence_dict.keys():\n",
    "             #out = csv.writer(open('block-'+str(block_count)+'.csv', 'w'), delimiter=' ', quoting=csv.QUOTE_ALL)\n",
    "            out = csv.writer(open(Path+'/'+segmentI+'SF'+sample_freq[segmentI]+'_'+segment+frequence_dict[segmentI]+'.csv', 'w'), quoting=csv.QUOTE_NONE)\n",
    "            pd.DataFrame()\n",
    "        else:\n",
    "            out = csv.writer(open(Path+'/'+segmentI+segment+'.csv', 'w'), quoting=csv.QUOTE_NONE)\n",
    "\n",
    "        header = []\n",
    "        for i in range(2,len(temp)):\n",
    "            header.append(temp[i])\n",
    "            out.writerow(header)\n",
    "            #out.writerow(header)\n",
    "        elif ( (temp[0] != '#' ) ):\n",
    "            numbers = []\n",
    "        for i in range(0,len(temp)):\n",
    "            numbers.append(float(temp[i]))                \n",
    "        out.writerow(numbers)\n",
    "    \n",
    "        \n",
    "\n",
    "print(frequence_dict)\n",
    "print(sample_freq)\n",
    "      \n"
   ]
  },
  {
   "cell_type": "code",
   "execution_count": 36,
   "metadata": {
    "collapsed": false
   },
   "outputs": [
    {
     "data": {
      "text/plain": [
       "'5'"
      ]
     },
     "execution_count": 36,
     "metadata": {},
     "output_type": "execute_result"
    }
   ],
   "source": [
    "reg=re.search('force-settings.segment.(\\d*).frequency:','force-settings.segment.5.frequency:')\n",
    "reg.group(1)"
   ]
  },
  {
   "cell_type": "code",
   "execution_count": null,
   "metadata": {
    "collapsed": false
   },
   "outputs": [],
   "source": [
    "data_file=pd.read_csv('0extend.csv', delimiter='\\t')\n",
    "data_file"
   ]
  }
 ],
 "metadata": {
  "kernelspec": {
   "display_name": "Python 2",
   "language": "python",
   "name": "python2"
  },
  "language_info": {
   "codemirror_mode": {
    "name": "ipython",
    "version": 2
   },
   "file_extension": ".py",
   "mimetype": "text/x-python",
   "name": "python",
   "nbconvert_exporter": "python",
   "pygments_lexer": "ipython2",
   "version": "2.7.6"
  }
 },
 "nbformat": 4,
 "nbformat_minor": 1
}
